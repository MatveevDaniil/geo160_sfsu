{
 "cells": [
  {
   "cell_type": "markdown",
   "id": "23bae172",
   "metadata": {},
   "source": [
    "## Table 1"
   ]
  },
  {
   "cell_type": "markdown",
   "id": "66fbfe20",
   "metadata": {},
   "source": [
    "### Reading excel table "
   ]
  },
  {
   "cell_type": "code",
   "execution_count": 12,
   "id": "aba2ea3f",
   "metadata": {},
   "outputs": [],
   "source": [
    "import pandas as pd\n",
    "table = pd.read_excel('/Users/daniil/Downloads/Lab4_DATA_Geog160.12.xlsx')"
   ]
  },
  {
   "cell_type": "markdown",
   "id": "e9b0468b",
   "metadata": {},
   "source": [
    "### Normalizing species names, creating hash-map habbitat->species"
   ]
  },
  {
   "cell_type": "code",
   "execution_count": 30,
   "id": "a963031f",
   "metadata": {
    "scrolled": true
   },
   "outputs": [],
   "source": [
    "from collections import defaultdict\n",
    "import re\n",
    "habbitat2species = defaultdict(list)\n",
    "for idx, row in table.iterrows():\n",
    "    species = row['Plant Species'].lower()\n",
    "    species = [i for i in re.split('[,&]', species) if i != '']\n",
    "    species = [i[:-1] if i[-1] == ' ' else i for i in species]\n",
    "    habbitat2species[row['Habitat ']].extend(species)"
   ]
  },
  {
   "cell_type": "code",
   "execution_count": 33,
   "id": "c7807667",
   "metadata": {},
   "outputs": [
    {
     "name": "stdout",
     "output_type": "stream",
     "text": [
      "for habbitat Wetlands there are 9 unique species\n",
      "for habbitat Forest there are 17 unique species\n",
      "for habbitat Lawn there are 5 unique species\n"
     ]
    }
   ],
   "source": [
    "recs = []\n",
    "for habbitat in habbitat2species:\n",
    "    for specie in set(habbitat2species[habbitat]):\n",
    "        recs.append({\n",
    "            'habbitat': habbitat,\n",
    "            'species': specie\n",
    "        })\n",
    "    print(f'for habbitat {habbitat} there are {len(set(habbitat2species[habbitat]))} unique species', )\n",
    "pd.DataFrame(recs).to_excel('species per habbitat.xlsx', index=False)"
   ]
  },
  {
   "cell_type": "markdown",
   "id": "66c6d7e9",
   "metadata": {},
   "source": [
    "## Table 2"
   ]
  },
  {
   "cell_type": "code",
   "execution_count": 40,
   "id": "61b87d43",
   "metadata": {},
   "outputs": [],
   "source": [
    "import numpy as np\n",
    "habbitat2specie2coverage = defaultdict(dict)\n",
    "for idx, row in table.iterrows():\n",
    "    habbitat = row['Habitat ']\n",
    "    specie = row['Plant Species'].lower()\n",
    "    cover = row['% Cover']\n",
    "    if '&' in species or ',' in species:\n",
    "        continue\n",
    "    if specie not in habbitat2specie2coverage[habbitat]:\n",
    "        habbitat2specie2coverage[habbitat][specie] = []\n",
    "    habbitat2specie2coverage[habbitat][specie].append(cover)"
   ]
  },
  {
   "cell_type": "code",
   "execution_count": 43,
   "id": "b54c25b1",
   "metadata": {},
   "outputs": [],
   "source": [
    "recs2 = []\n",
    "for habbitat, specie2coverage in habbitat2specie2coverage.items():\n",
    "    for specie, coverage in specie2coverage.items():\n",
    "        cover_mean = np.mean(coverage)\n",
    "        cover_std = np.std(coverage)\n",
    "        recs2.append({\n",
    "            'habbitat': habbitat,\n",
    "            'specie': specie,\n",
    "            'mean': cover_mean,\n",
    "            'standard deviation': cover_std\n",
    "        })\n",
    "pd.DataFrame(recs2).to_excel('coverage per specie-habbitat.xlsx', index=False)"
   ]
  },
  {
   "cell_type": "code",
   "execution_count": 44,
   "id": "773fd81e",
   "metadata": {},
   "outputs": [
    {
     "data": {
      "text/plain": [
       "0.0"
      ]
     },
     "execution_count": 44,
     "metadata": {},
     "output_type": "execute_result"
    }
   ],
   "source": [
    "np.std([1])"
   ]
  },
  {
   "cell_type": "code",
   "execution_count": null,
   "id": "79157930",
   "metadata": {},
   "outputs": [],
   "source": []
  },
  {
   "cell_type": "code",
   "execution_count": null,
   "id": "e1e1268c",
   "metadata": {},
   "outputs": [],
   "source": []
  }
 ],
 "metadata": {
  "kernelspec": {
   "display_name": "Python 3 (ipykernel)",
   "language": "python",
   "name": "python3"
  },
  "language_info": {
   "codemirror_mode": {
    "name": "ipython",
    "version": 3
   },
   "file_extension": ".py",
   "mimetype": "text/x-python",
   "name": "python",
   "nbconvert_exporter": "python",
   "pygments_lexer": "ipython3",
   "version": "3.11.1"
  }
 },
 "nbformat": 4,
 "nbformat_minor": 5
}
